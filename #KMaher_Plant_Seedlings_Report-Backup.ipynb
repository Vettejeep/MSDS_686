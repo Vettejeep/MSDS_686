{
 "cells": [
  {
   "cell_type": "markdown",
   "metadata": {},
   "source": [
    "# Work in Progress  \n",
    "### Partial Report saved for backup (this text will be removed when the report is complete)\n",
    "## A Micro-Xception Model with Regularization to Classify the Kaggle Plant Seedlings Dataset\n",
    "#### Kevin Maher\n",
    "#### Regis University MSDS 686 Deep Learning\n",
    "#### Dr. Geena Kim, Facilitator"
   ]
  },
  {
   "cell_type": "markdown",
   "metadata": {},
   "source": [
    "### Introduction"
   ]
  },
  {
   "cell_type": "markdown",
   "metadata": {},
   "source": [
    "A Micro-Xception style model is presented as a method of classifying the Kaggle Plant Seedlings dataset (Kaggle [1]).  The model is a derivation of the well-known Xception image classification acrhitecture (Chollet [3]). The Xception style model has been reduced in size and modified in an effort to better fit the computing resources available and in an effort to perform well on the Plant Seedlings classification problem.  L2 Regularization was added to the model when overefitting and epoch-to-epoch training instability were observed.  This addition of L2 regularization appears to have benefitted the model and help to stabilize its results.  The final model appears to have performed well, achieving a score of 0.98614 on Kaggle.  If this were still an open competition the best achieved score for this model would be tied with a group that is in the upper 4.8-6.3% of scores.  \n"
   ]
  },
  {
   "cell_type": "markdown",
   "metadata": {},
   "source": [
    "<img src=\"L2_micro_xception_89_epoch.png\">"
   ]
  },
  {
   "cell_type": "markdown",
   "metadata": {},
   "source": [
    "Early on the full Xception model was attempted on the problem.  It is believed that the Image Net weights used in the original Xception model are unlikely to transfer well to this dataset because the images for the problem at hand are only of plant seedlings and there were 1,000 different categories of images in the Image Net set (Chollet [2]).  Early modeling efforts using the original Xception model and weights produced an accuracy on a validation subset of the Kaggle training data of 75.5%.  This model used the original weights from Image Net but trained the layers from block 13 outwards in the Xception model.  Thus only part of the Xception model was retrained on the new data, most of the model used the Image Net Weights.  The author was not able to train a full Xception model to full depth because of memory limitations in the computer hardware available.  The 75% accuracy was considered unacceptable and the search for a better model began.  This model is documented in the file 'plant_xception.py'.  "
   ]
  },
  {
   "cell_type": "markdown",
   "metadata": {},
   "source": [
    "The decision was made to search for a model that would fit the problem well and train with the computing and semester time resources available.  In this process both Xception and Inception V3 style models were tried (Szegedy, et. al. [4]).  Both were modified to a reduced size from their original form by removing blocks of code and layers. This was done in order to better fit the available computing resources and hopefully to  produce a model that trained faster.  At the end of the project the modified Xception style architecture out-performed the modified Inception architecture in classification accuracy.  However the models produced accuracy results that were very close and the possible combinations of blocks and block sizes for these models are endless so it would not be reasonable to conclude that one architecture is superior to the other in general terms.  "
   ]
  },
  {
   "cell_type": "markdown",
   "metadata": {},
   "source": [
    "### The Modified Xception Architecture"
   ]
  },
  {
   "cell_type": "markdown",
   "metadata": {},
   "source": [
    "The Xception model was derived directly from code provided in Keras by Chollet (Chollet [3]).  Through a number of experiments it was changed in several ways in a search for accuracy and consistency on the plant seedling classification data.  The code for the new model can be found in the Git repository in the Python file '$plant_micro_xception_L2_Reg_test_70_30.py'"
   ]
  },
  {
   "cell_type": "markdown",
   "metadata": {},
   "source": [
    "The first and second blocks of the model were retained along with their residual layers.  Blocks 3 and 4 were removed in the interest of a smaller model.  The middle 'for' loop that creates 8 blocks in the original model was reduced to producing only 2 blocks in the new model.  The last two blocks after the 'for' loop were retained but the number of filters was drastically reduced.  The original Xception model can be examined by opening the file 'xception.py' in the Python Keras implementation.  It can be noted that the number of filters tends to grow with each block and often within a block.  With many fewer blocks this growth was restrained.  It was also necessary to reduce the filter sizes to account for the removed blocks so that the sizes would remain compatible and the model would compile.  The goal was a smaller model that would fit in memory and not excessively overfit the problem."
   ]
  },
  {
   "cell_type": "markdown",
   "metadata": {},
   "source": [
    "A top layer was derived specifically to match the plant seedlings challenge.  Early experimentation tended to show that two dense layers gave better accuracy than one, so two dense layers of sizes 256 then 64 were utilized.  The output layer is a 'softmax' layer matching the 12 classes in the problem and is typical of output layers for convolutional neural network (CNN) models where an image can contain only one from a number of classes.  Additionally, early experimentation showed that a smaller learning rate might benefit the model and be combined with a decay rate.  An 'Adam' optimizer was used because of its reputation for reliabilty but time did not permit exporation of other optimizer options.  The learning rate was set at 0.0008 and the decay set to 0.001."
   ]
  },
  {
   "cell_type": "markdown",
   "metadata": {},
   "source": [
    "When overfitting and epoch-to-epoch instability in validation losses and accuracy were observed in training the model, another modification was made in an effort to help reduce these problems.  L2 regularization was added to every layer of the Xception model, including all of the separable convolution blocks that represent the Xception-style architecture.  L2 regularization was used with its normal default value of 0.001.  It had a dramatic effect on the model.  Model training was observed to sometimes produce a result where validation set accuracy would drop dramatically between epochs, sometimes by 10% or more.  Adding regularization cured this instability and the model became very much more stable.  Overall accuracy potential also seems to have improved along with the ability to fit previously unseen data such as the Kaggle web site test set.  "
   ]
  },
  {
   "cell_type": "markdown",
   "metadata": {},
   "source": [
    "### The Modified Micro-Xception Code"
   ]
  },
  {
   "cell_type": "code",
   "execution_count": 1,
   "metadata": {},
   "outputs": [
    {
     "name": "stderr",
     "output_type": "stream",
     "text": [
      "C:\\ProgramData\\Anaconda3\\lib\\site-packages\\h5py\\__init__.py:36: FutureWarning: Conversion of the second argument of issubdtype from `float` to `np.floating` is deprecated. In future, it will be treated as `np.float64 == np.dtype(float).type`.\n",
      "  from ._conv import register_converters as _register_converters\n",
      "Using TensorFlow backend.\n"
     ]
    },
    {
     "name": "stdout",
     "output_type": "stream",
     "text": [
      "done with imports\n"
     ]
    }
   ],
   "source": [
    "# imports\n",
    "from keras.preprocessing.image import ImageDataGenerator\n",
    "from tensorflow.python.keras import backend as K\n",
    "from tensorflow.python.keras import layers\n",
    "from tensorflow.python.keras.applications.imagenet_utils import _obtain_input_shape\n",
    "from tensorflow.python.keras.layers import Activation\n",
    "from tensorflow.python.keras.layers import BatchNormalization\n",
    "from tensorflow.python.keras.layers import Conv2D\n",
    "from tensorflow.python.keras.layers import GlobalMaxPooling2D\n",
    "from tensorflow.python.keras.layers import Input\n",
    "from tensorflow.python.keras.layers import MaxPooling2D\n",
    "from tensorflow.python.keras.layers import SeparableConv2D\n",
    "from tensorflow.python.keras.layers import Flatten\n",
    "from tensorflow.python.keras.layers import Dense\n",
    "from tensorflow.python.keras.models import Model\n",
    "from tensorflow.python.keras import optimizers\n",
    "from tensorflow.python.keras import regularizers\n",
    "import tensorflow as tf\n",
    "print('done with imports')"
   ]
  },
  {
   "cell_type": "code",
   "execution_count": 2,
   "metadata": {},
   "outputs": [
    {
     "name": "stdout",
     "output_type": "stream",
     "text": [
      "model function complete\n"
     ]
    }
   ],
   "source": [
    "# model building function\n",
    "def build_model(input_shape=None):\n",
    "    # code removed until closer to due date\n",
    "\n",
    "    return model\n",
    "\n",
    "print('model function complete')"
   ]
  },
  {
   "cell_type": "code",
   "execution_count": 5,
   "metadata": {},
   "outputs": [
    {
     "name": "stdout",
     "output_type": "stream",
     "text": [
      "__________________________________________________________________________________________________\n",
      "Layer (type)                    Output Shape         Param #     Connected to                     \n",
      "==================================================================================================\n",
      "input_2 (InputLayer)            (None, 224, 224, 3)  0                                            \n",
      "__________________________________________________________________________________________________\n",
      "block1_conv1 (Conv2D)           (None, 111, 111, 32) 864         input_2[0][0]                    \n",
      "__________________________________________________________________________________________________\n",
      "block1_conv1_bn (BatchNormaliza (None, 111, 111, 32) 128         block1_conv1[0][0]               \n",
      "__________________________________________________________________________________________________\n",
      "block1_conv1_act (Activation)   (None, 111, 111, 32) 0           block1_conv1_bn[0][0]            \n",
      "__________________________________________________________________________________________________\n",
      "block1_conv2 (Conv2D)           (None, 109, 109, 64) 18432       block1_conv1_act[0][0]           \n",
      "__________________________________________________________________________________________________\n",
      "block1_conv2_bn (BatchNormaliza (None, 109, 109, 64) 256         block1_conv2[0][0]               \n",
      "__________________________________________________________________________________________________\n",
      "block1_conv2_act (Activation)   (None, 109, 109, 64) 0           block1_conv2_bn[0][0]            \n",
      "__________________________________________________________________________________________________\n",
      "block2_sepconv1 (SeparableConv2 (None, 109, 109, 128 8768        block1_conv2_act[0][0]           \n",
      "__________________________________________________________________________________________________\n",
      "block2_sepconv1_bn (BatchNormal (None, 109, 109, 128 512         block2_sepconv1[0][0]            \n",
      "__________________________________________________________________________________________________\n",
      "block2_sepconv2_act (Activation (None, 109, 109, 128 0           block2_sepconv1_bn[0][0]         \n",
      "__________________________________________________________________________________________________\n",
      "block2_sepconv2 (SeparableConv2 (None, 109, 109, 256 33920       block2_sepconv2_act[0][0]        \n",
      "__________________________________________________________________________________________________\n",
      "block2_sepconv2_bn (BatchNormal (None, 109, 109, 256 1024        block2_sepconv2[0][0]            \n",
      "__________________________________________________________________________________________________\n",
      "residual_conv2d_1 (Conv2D)      (None, 55, 55, 256)  16384       block1_conv2_act[0][0]           \n",
      "__________________________________________________________________________________________________\n",
      "block2_pool (MaxPooling2D)      (None, 55, 55, 256)  0           block2_sepconv2_bn[0][0]         \n",
      "__________________________________________________________________________________________________\n",
      "batch_normalization_3 (BatchNor (None, 55, 55, 256)  1024        residual_conv2d_1[0][0]          \n",
      "__________________________________________________________________________________________________\n",
      "add_4 (Add)                     (None, 55, 55, 256)  0           block2_pool[0][0]                \n",
      "                                                                 batch_normalization_3[0][0]      \n",
      "__________________________________________________________________________________________________\n",
      "block3_sepconv1_act (Activation (None, 55, 55, 256)  0           add_4[0][0]                      \n",
      "__________________________________________________________________________________________________\n",
      "block3_sepconv1 (SeparableConv2 (None, 55, 55, 256)  67840       block3_sepconv1_act[0][0]        \n",
      "__________________________________________________________________________________________________\n",
      "block3_sepconv1_bn (BatchNormal (None, 55, 55, 256)  1024        block3_sepconv1[0][0]            \n",
      "__________________________________________________________________________________________________\n",
      "block3_sepconv2_act (Activation (None, 55, 55, 256)  0           block3_sepconv1_bn[0][0]         \n",
      "__________________________________________________________________________________________________\n",
      "block3_sepconv2 (SeparableConv2 (None, 55, 55, 256)  67840       block3_sepconv2_act[0][0]        \n",
      "__________________________________________________________________________________________________\n",
      "block3_sepconv2_bn (BatchNormal (None, 55, 55, 256)  1024        block3_sepconv2[0][0]            \n",
      "__________________________________________________________________________________________________\n",
      "block3_sepconv3_act (Activation (None, 55, 55, 256)  0           block3_sepconv2_bn[0][0]         \n",
      "__________________________________________________________________________________________________\n",
      "block3_sepconv3 (SeparableConv2 (None, 55, 55, 256)  67840       block3_sepconv3_act[0][0]        \n",
      "__________________________________________________________________________________________________\n",
      "block3_sepconv3_bn (BatchNormal (None, 55, 55, 256)  1024        block3_sepconv3[0][0]            \n",
      "__________________________________________________________________________________________________\n",
      "add_5 (Add)                     (None, 55, 55, 256)  0           block3_sepconv3_bn[0][0]         \n",
      "                                                                 add_4[0][0]                      \n",
      "__________________________________________________________________________________________________\n",
      "block4_sepconv1_act (Activation (None, 55, 55, 256)  0           add_5[0][0]                      \n",
      "__________________________________________________________________________________________________\n",
      "block4_sepconv1 (SeparableConv2 (None, 55, 55, 256)  67840       block4_sepconv1_act[0][0]        \n",
      "__________________________________________________________________________________________________\n",
      "block4_sepconv1_bn (BatchNormal (None, 55, 55, 256)  1024        block4_sepconv1[0][0]            \n",
      "__________________________________________________________________________________________________\n",
      "block4_sepconv2_act (Activation (None, 55, 55, 256)  0           block4_sepconv1_bn[0][0]         \n",
      "__________________________________________________________________________________________________\n",
      "block4_sepconv2 (SeparableConv2 (None, 55, 55, 256)  67840       block4_sepconv2_act[0][0]        \n",
      "__________________________________________________________________________________________________\n",
      "block4_sepconv2_bn (BatchNormal (None, 55, 55, 256)  1024        block4_sepconv2[0][0]            \n",
      "__________________________________________________________________________________________________\n",
      "block4_sepconv3_act (Activation (None, 55, 55, 256)  0           block4_sepconv2_bn[0][0]         \n",
      "__________________________________________________________________________________________________\n",
      "block4_sepconv3 (SeparableConv2 (None, 55, 55, 256)  67840       block4_sepconv3_act[0][0]        \n",
      "__________________________________________________________________________________________________\n",
      "block4_sepconv3_bn (BatchNormal (None, 55, 55, 256)  1024        block4_sepconv3[0][0]            \n",
      "__________________________________________________________________________________________________\n",
      "add_6 (Add)                     (None, 55, 55, 256)  0           block4_sepconv3_bn[0][0]         \n",
      "                                                                 add_5[0][0]                      \n",
      "__________________________________________________________________________________________________\n",
      "block21_sepconv1_act (Activatio (None, 55, 55, 256)  0           add_6[0][0]                      \n",
      "__________________________________________________________________________________________________\n",
      "block21_sepconv1 (SeparableConv (None, 55, 55, 384)  100608      block21_sepconv1_act[0][0]       \n",
      "__________________________________________________________________________________________________\n",
      "block21_sepconv1_bn (BatchNorma (None, 55, 55, 384)  1536        block21_sepconv1[0][0]           \n",
      "__________________________________________________________________________________________________\n",
      "block21_sepconv2_act (Activatio (None, 55, 55, 384)  0           block21_sepconv1_bn[0][0]        \n",
      "__________________________________________________________________________________________________\n",
      "block21_sepconv2 (SeparableConv (None, 55, 55, 384)  150912      block21_sepconv2_act[0][0]       \n",
      "__________________________________________________________________________________________________\n",
      "block21_sepconv2_bn (BatchNorma (None, 55, 55, 384)  1536        block21_sepconv2[0][0]           \n",
      "__________________________________________________________________________________________________\n",
      "conv2d_1 (Conv2D)               (None, 28, 28, 384)  98304       add_6[0][0]                      \n",
      "__________________________________________________________________________________________________\n",
      "block13_pool (MaxPooling2D)     (None, 28, 28, 384)  0           block21_sepconv2_bn[0][0]        \n",
      "__________________________________________________________________________________________________\n",
      "batch_normalization_5 (BatchNor (None, 28, 28, 384)  1536        conv2d_1[0][0]                   \n",
      "__________________________________________________________________________________________________\n",
      "add_7 (Add)                     (None, 28, 28, 384)  0           block13_pool[0][0]               \n",
      "                                                                 batch_normalization_5[0][0]      \n",
      "__________________________________________________________________________________________________\n",
      "block22_sepconv1 (SeparableConv (None, 28, 28, 512)  200064      add_7[0][0]                      \n",
      "__________________________________________________________________________________________________\n",
      "block22_sepconv1_bn (BatchNorma (None, 28, 28, 512)  2048        block22_sepconv1[0][0]           \n",
      "__________________________________________________________________________________________________\n",
      "block22_sepconv1_act (Activatio (None, 28, 28, 512)  0           block22_sepconv1_bn[0][0]        \n",
      "__________________________________________________________________________________________________\n",
      "block22_sepconv2 (SeparableConv (None, 28, 28, 768)  397824      block22_sepconv1_act[0][0]       \n",
      "__________________________________________________________________________________________________\n",
      "block22_sepconv2_bn (BatchNorma (None, 28, 28, 768)  3072        block22_sepconv2[0][0]           \n",
      "__________________________________________________________________________________________________\n",
      "block22_sepconv2_act (Activatio (None, 28, 28, 768)  0           block22_sepconv2_bn[0][0]        \n",
      "__________________________________________________________________________________________________\n",
      "global_max_pooling2d_1 (GlobalM (None, 768)          0           block22_sepconv2_act[0][0]       \n",
      "__________________________________________________________________________________________________\n",
      "flatten_1 (Flatten)             (None, 768)          0           global_max_pooling2d_1[0][0]     \n",
      "__________________________________________________________________________________________________\n",
      "dense_2 (Dense)                 (None, 256)          196864      flatten_1[0][0]                  \n",
      "__________________________________________________________________________________________________\n",
      "dense_3 (Dense)                 (None, 64)           16448       dense_2[0][0]                    \n",
      "__________________________________________________________________________________________________\n",
      "dense_4 (Dense)                 (None, 12)           780         dense_3[0][0]                    \n",
      "==================================================================================================\n",
      "Total params: 1,666,028\n",
      "Trainable params: 1,656,620\n",
      "Non-trainable params: 9,408\n",
      "__________________________________________________________________________________________________\n"
     ]
    }
   ],
   "source": [
    "# instantiate the model and check its size\n",
    "EPOCHS = 120\n",
    "LAST_EPOCH = 0\n",
    "REPEATS = 10\n",
    "train_size= 3319\n",
    "validation_size = 1431\n",
    "test_size = 794\n",
    "batch_size = 20\n",
    "seed = 321\n",
    "im_size = 224\n",
    "num_classes = 12\n",
    "model = build_model(input_shape=(im_size, im_size, 3))\n",
    "model.summary()"
   ]
  },
  {
   "cell_type": "markdown",
   "metadata": {},
   "source": [
    "### Model Setup Results"
   ]
  },
  {
   "cell_type": "markdown",
   "metadata": {},
   "source": [
    "As can be seen in the code above, the modified model has around 1.66 million parameters, most of which are trainable.  The original Xception model has around 22.9 million parameters (Keras [5]).  The goal of providing a much smaller and simpler model that still fits the problem well has been achieved as can be seen from the final best Kaggle score of 0.98614.  The model appears to have been successfully adapted to this problem which is smaller and simpler than the original Image Net data that the model was originally designed for."
   ]
  },
  {
   "cell_type": "markdown",
   "metadata": {},
   "source": [
    "### Model Training Stability"
   ]
  },
  {
   "cell_type": "markdown",
   "metadata": {},
   "source": [
    "While it might be observed that the model still overfits some, the stability epoch-to-epoch is much imprpoved over the model without regularization.  It is also difficult to tell if the model has reached its full potential, even after 120 epochs."
   ]
  },
  {
   "cell_type": "code",
   "execution_count": 8,
   "metadata": {},
   "outputs": [
    {
     "data": {
      "image/png": "[encoded data removed]",
      "text/plain": [
       "<Figure size 432x288 with 1 Axes>"
      ]
     },
     "metadata": {},
     "output_type": "display_data"
    }
   ],
   "source": [
    "%matplotlib inline\n",
    "import pandas as pd\n",
    "import matplotlib.pyplot as plt\n",
    "\n",
    "df = pd.read_csv('df_mx_l2_70_30_120.csv')\n",
    "\n",
    "plt.figure()\n",
    "p1 =plt.plot(df['epoch'], df['accs']*100.0, color='r', marker='.', label='Training Accuracy')\n",
    "p2 =plt.plot(df['epoch'], df['val_accs']*100.0, color='b', marker='.', label='Validation Accuracy')\n",
    "#p3 =plt.plot(df['epoch'], df['test_accs']*100.0, color='g', marker='.', label='Test Set Accuracy')\n",
    "p = p1 + p2 #+ p3\n",
    "plt.title('Micro-Xception Model Accuracies')\n",
    "plt.xlabel('Epoch')\n",
    "plt.ylabel('Accuracy - %')\n",
    "plt.legend(p, loc='lower right')\n",
    "plt.ylim(65.0, 105.0)\n",
    "plt.show()"
   ]
  },
  {
   "cell_type": "code",
   "execution_count": 9,
   "metadata": {},
   "outputs": [
    {
     "data": {
      "image/png": "[encoded data removed]",
      "text/plain": [
       "<Figure size 432x288 with 1 Axes>"
      ]
     },
     "metadata": {},
     "output_type": "display_data"
    }
   ],
   "source": [
    "plt.figure()\n",
    "p1 =plt.plot(df['epoch'], df['losses'], color='r', marker='.', label='Training Loss')\n",
    "p2 =plt.plot(df['epoch'], df['val_losses'], color='b', marker='.', label='Validation Loss')\n",
    "#p3 =plt.plot(df['epoch'], df['test_losses'], color='g', marker='.', label='Test Set Loss')\n",
    "p = p1 + p2 #+ p3\n",
    "plt.title('Micro-Xception Model Losses')\n",
    "plt.xlabel('Epoch')\n",
    "plt.ylabel('Loss')\n",
    "plt.legend(p, loc='upper right')\n",
    "plt.show()"
   ]
  },
  {
   "cell_type": "markdown",
   "metadata": {},
   "source": [
    "#### References:\n",
    "[1] Kaggle. Plant Seedlings Classification.  Retrieved from: https://www.kaggle.com/c/plant-seedlings-classification.  \n",
    "[2] Chollet, Francois.  Deep Learning with Python.  Manning.  Shelter Island, N.Y.  \n",
    "[3] Chollet, Francois.  Xception: Deep Learning with Depthwise Separable Convolutions.  Cornell University Library.  Retrieved from: https://arxiv.org/abs/1610.02357.  \n",
    "[4] Szegedy, Christian; Vanhoucke, Vincent; Ioffe, Sergey; Shlens, Jonathon; Wojna, Zbigniew.  Rethinking the Inception Architecture for Computer Vision.  Cornell University Library.  Retrieved from: https://arxiv.org/abs/1512.00567.  \n",
    "[5] Keras.  Applications.  Keras Documentation.  Retrieved from: https://keras.io/applications/.  \n"
   ]
  },
  {
   "cell_type": "code",
   "execution_count": null,
   "metadata": {},
   "outputs": [],
   "source": []
  }
 ],
 "metadata": {
  "kernelspec": {
   "display_name": "Python 3",
   "language": "python",
   "name": "python3"
  },
  "language_info": {
   "codemirror_mode": {
    "name": "ipython",
    "version": 3
   },
   "file_extension": ".py",
   "mimetype": "text/x-python",
   "name": "python",
   "nbconvert_exporter": "python",
   "pygments_lexer": "ipython3",
   "version": "3.6.5"
  }
 },
 "nbformat": 4,
 "nbformat_minor": 2
}
